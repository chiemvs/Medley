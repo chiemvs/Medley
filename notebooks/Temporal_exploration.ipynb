{
 "cells": [
  {
   "cell_type": "code",
   "execution_count": 1,
   "id": "8e974423",
   "metadata": {},
   "outputs": [],
   "source": [
    "import sys\n",
    "import os\n",
    "#import torch\n",
    "import zarr\n",
    "import fsspec\n",
    "import lilio\n",
    "import xarray as xr\n",
    "import numpy as np\n",
    "import pandas as pd\n",
    "import pyarrow as pa\n",
    "import matplotlib.pyplot as plt\n",
    "\n",
    "#from torch import nn\n",
    "from pathlib import Path\n",
    "\n",
    "sys.path.append(os.path.expanduser('~/Documents/Medley'))\n",
    "from scripts.prepare_monthly_ts_data import get_monthly_data"
   ]
  },
  {
   "cell_type": "markdown",
   "id": "6da56184",
   "metadata": {},
   "source": [
    "### Defining predictand"
   ]
  },
  {
   "cell_type": "code",
   "execution_count": 2,
   "id": "06c9990d",
   "metadata": {},
   "outputs": [],
   "source": [
    "# blocks to include and exclude. Lonmin, latmin, lonmax, latmax\n",
    "include = {'iberia':(-9.8,35.98,3.6,43.8),\n",
    "          'france_italy':(4,43,13.4,45.63)}\n",
    "exclude = {'islands':(0.79,35.2,4.6,40.4),\n",
    "          'north_africa':(-1.450,34.457,11.217,36.972)}"
   ]
  },
  {
   "cell_type": "code",
   "execution_count": 3,
   "id": "9c41bde5",
   "metadata": {},
   "outputs": [
    {
     "data": {
      "text/plain": [
       "<matplotlib.collections.QuadMesh at 0x15549074b130>"
      ]
     },
     "execution_count": 3,
     "metadata": {},
     "output_type": "execute_result"
    },
    {
     "data": {
      "image/png": "[encoded data removed]",
      "text/plain": [
       "<Figure size 640x480 with 2 Axes>"
      ]
     },
     "metadata": {},
     "output_type": "display_data"
    }
   ],
   "source": [
    "rrmon = xr.open_zarr('/scistor/ivm/jsn295/Medi/monthly/rr_mon_ens_mean_0.1deg_reg_v26.0e.zarr/')['rr']\n",
    "example = rrmon.isel(time = 0, drop =True)\n",
    "mask = xr.DataArray(np.full_like(example, 0), coords = example.coords)\n",
    "def set_subset_to(lonmin, latmin, lonmax, latmax, array, value):\n",
    "    lons = array.sel(longitude = slice(lonmin, lonmax)).longitude\n",
    "    lats = array.sel(latitude = slice(latmin, latmax)).latitude\n",
    "    array.loc[lats,lons] = value # cannot do .sel based assignment\n",
    "for args in include.values():\n",
    "    set_subset_to(*args, array = mask, value = 1)\n",
    "for args in exclude.values():\n",
    "    set_subset_to(*args, array = mask, value = 0)\n",
    "count = xr.where(mask,rrmon,np.nan).count('time').compute()\n",
    "count.plot()"
   ]
  },
  {
   "cell_type": "code",
   "execution_count": 4,
   "id": "b2a75aae",
   "metadata": {},
   "outputs": [],
   "source": [
    "target = xr.where(mask,rrmon,np.nan).mean(['longitude','latitude']).compute().to_pandas()"
   ]
  },
  {
   "cell_type": "markdown",
   "id": "c78afc2f",
   "metadata": {},
   "source": [
    "## relating to predictors"
   ]
  },
  {
   "cell_type": "code",
   "execution_count": 5,
   "id": "68f21e79",
   "metadata": {},
   "outputs": [],
   "source": [
    "df = get_monthly_data().to_pandas()\n",
    "df = df.loc[target.index,:]"
   ]
  },
  {
   "cell_type": "code",
   "execution_count": 6,
   "id": "f9361652",
   "metadata": {},
   "outputs": [
    {
     "data": {
      "text/plain": [
       "Calendar(\n",
       "    anchor='12-01',\n",
       "    allow_overlap=False,\n",
       "    mapping=('years', 2021, 2023),\n",
       "    intervals=[\n",
       "        Interval(role='target', length='1M', gap='0M'),\n",
       "        Interval(role='precursor', length='1M', gap='-1M')\n",
       "    ]\n",
       ")"
      ]
     },
     "execution_count": 6,
     "metadata": {},
     "output_type": "execute_result"
    }
   ],
   "source": [
    "cal = lilio.Calendar(anchor = '12-01')\n",
    "cal.add_intervals(\"target\", length=\"1M\", gap = '0M')\n",
    "cal.add_intervals(\"precursor\", length=\"1M\", n=1, gap = '-1M') # Fully co-occurring\n",
    "cal.map_years(start=2021, end=2023)"
   ]
  },
  {
   "cell_type": "code",
   "execution_count": 7,
   "id": "50bd84e4",
   "metadata": {},
   "outputs": [
    {
     "data": {
      "text/html": [
       "<div>\n",
       "<style scoped>\n",
       "    .dataframe tbody tr th:only-of-type {\n",
       "        vertical-align: middle;\n",
       "    }\n",
       "\n",
       "    .dataframe tbody tr th {\n",
       "        vertical-align: top;\n",
       "    }\n",
       "\n",
       "    .dataframe thead th {\n",
       "        text-align: right;\n",
       "    }\n",
       "</style>\n",
       "<table border=\"1\" class=\"dataframe\">\n",
       "  <thead>\n",
       "    <tr style=\"text-align: right;\">\n",
       "      <th>i_interval</th>\n",
       "      <th>-1</th>\n",
       "      <th>1</th>\n",
       "    </tr>\n",
       "    <tr>\n",
       "      <th>anchor_year</th>\n",
       "      <th></th>\n",
       "      <th></th>\n",
       "    </tr>\n",
       "  </thead>\n",
       "  <tbody>\n",
       "    <tr>\n",
       "      <th>2023</th>\n",
       "      <td>[2023-12-01, 2024-01-01)</td>\n",
       "      <td>[2023-12-01, 2024-01-01)</td>\n",
       "    </tr>\n",
       "    <tr>\n",
       "      <th>2022</th>\n",
       "      <td>[2022-12-01, 2023-01-01)</td>\n",
       "      <td>[2022-12-01, 2023-01-01)</td>\n",
       "    </tr>\n",
       "    <tr>\n",
       "      <th>2021</th>\n",
       "      <td>[2021-12-01, 2022-01-01)</td>\n",
       "      <td>[2021-12-01, 2022-01-01)</td>\n",
       "    </tr>\n",
       "  </tbody>\n",
       "</table>\n",
       "</div>"
      ],
      "text/plain": [
       "i_interval                         -1                         1\n",
       "anchor_year                                                    \n",
       "2023         [2023-12-01, 2024-01-01)  [2023-12-01, 2024-01-01)\n",
       "2022         [2022-12-01, 2023-01-01)  [2022-12-01, 2023-01-01)\n",
       "2021         [2021-12-01, 2022-01-01)  [2021-12-01, 2022-01-01)"
      ]
     },
     "execution_count": 7,
     "metadata": {},
     "output_type": "execute_result"
    }
   ],
   "source": [
    "cal.show()"
   ]
  },
  {
   "cell_type": "code",
   "execution_count": 8,
   "id": "59c21847",
   "metadata": {},
   "outputs": [
    {
     "name": "stderr",
     "output_type": "stream",
     "text": [
      "/scistor/ivm/jsn295/NEWJUPVENV/lib/python3.10/site-packages/numpy/core/fromnumeric.py:3464: RuntimeWarning: Mean of empty slice.\n",
      "  return _methods._mean(a, axis=axis, dtype=dtype,\n",
      "/scistor/ivm/jsn295/NEWJUPVENV/lib/python3.10/site-packages/numpy/core/_methods.py:192: RuntimeWarning: invalid value encountered in divide\n",
      "  ret = ret.dtype.type(ret / rcount)\n",
      "/scistor/ivm/jsn295/NEWJUPVENV/lib/python3.10/site-packages/lilio/utils.py:79: UserWarning: The input data could not fully cover the calendar's intervals. Intervals without available data will contain NaN values.\n",
      "  warnings.warn(\n"
     ]
    },
    {
     "data": {
      "text/html": [
       "<div>\n",
       "<style scoped>\n",
       "    .dataframe tbody tr th:only-of-type {\n",
       "        vertical-align: middle;\n",
       "    }\n",
       "\n",
       "    .dataframe tbody tr th {\n",
       "        vertical-align: top;\n",
       "    }\n",
       "\n",
       "    .dataframe thead th {\n",
       "        text-align: right;\n",
       "    }\n",
       "</style>\n",
       "<table border=\"1\" class=\"dataframe\">\n",
       "  <thead>\n",
       "    <tr style=\"text-align: right;\">\n",
       "      <th></th>\n",
       "      <th>anchor_year</th>\n",
       "      <th>i_interval</th>\n",
       "      <th>interval</th>\n",
       "      <th>data</th>\n",
       "      <th>is_target</th>\n",
       "    </tr>\n",
       "  </thead>\n",
       "  <tbody>\n",
       "    <tr>\n",
       "      <th>0</th>\n",
       "      <td>2021</td>\n",
       "      <td>-1</td>\n",
       "      <td>[2021-12-01, 2022-01-01)</td>\n",
       "      <td>68.073807</td>\n",
       "      <td>False</td>\n",
       "    </tr>\n",
       "    <tr>\n",
       "      <th>1</th>\n",
       "      <td>2021</td>\n",
       "      <td>1</td>\n",
       "      <td>[2021-12-01, 2022-01-01)</td>\n",
       "      <td>68.073807</td>\n",
       "      <td>True</td>\n",
       "    </tr>\n",
       "    <tr>\n",
       "      <th>2</th>\n",
       "      <td>2022</td>\n",
       "      <td>-1</td>\n",
       "      <td>[2022-12-01, 2023-01-01)</td>\n",
       "      <td>NaN</td>\n",
       "      <td>False</td>\n",
       "    </tr>\n",
       "    <tr>\n",
       "      <th>3</th>\n",
       "      <td>2022</td>\n",
       "      <td>1</td>\n",
       "      <td>[2022-12-01, 2023-01-01)</td>\n",
       "      <td>NaN</td>\n",
       "      <td>True</td>\n",
       "    </tr>\n",
       "    <tr>\n",
       "      <th>4</th>\n",
       "      <td>2023</td>\n",
       "      <td>-1</td>\n",
       "      <td>[2023-12-01, 2024-01-01)</td>\n",
       "      <td>NaN</td>\n",
       "      <td>False</td>\n",
       "    </tr>\n",
       "    <tr>\n",
       "      <th>5</th>\n",
       "      <td>2023</td>\n",
       "      <td>1</td>\n",
       "      <td>[2023-12-01, 2024-01-01)</td>\n",
       "      <td>NaN</td>\n",
       "      <td>True</td>\n",
       "    </tr>\n",
       "  </tbody>\n",
       "</table>\n",
       "</div>"
      ],
      "text/plain": [
       "   anchor_year  i_interval                  interval       data  is_target\n",
       "0         2021          -1  [2021-12-01, 2022-01-01)  68.073807      False\n",
       "1         2021           1  [2021-12-01, 2022-01-01)  68.073807       True\n",
       "2         2022          -1  [2022-12-01, 2023-01-01)        NaN      False\n",
       "3         2022           1  [2022-12-01, 2023-01-01)        NaN       True\n",
       "4         2023          -1  [2023-12-01, 2024-01-01)        NaN      False\n",
       "5         2023           1  [2023-12-01, 2024-01-01)        NaN       True"
      ]
     },
     "execution_count": 8,
     "metadata": {},
     "output_type": "execute_result"
    }
   ],
   "source": [
    "lilio.resample(cal,target)"
   ]
  },
  {
   "cell_type": "code",
   "execution_count": null,
   "id": "dabdbe6e",
   "metadata": {},
   "outputs": [],
   "source": []
  },
  {
   "cell_type": "code",
   "execution_count": null,
   "id": "ebe899d3",
   "metadata": {},
   "outputs": [],
   "source": []
  },
  {
   "cell_type": "code",
   "execution_count": null,
   "id": "38424e8c",
   "metadata": {},
   "outputs": [],
   "source": []
  },
  {
   "cell_type": "code",
   "execution_count": null,
   "id": "b817b614",
   "metadata": {},
   "outputs": [],
   "source": []
  },
  {
   "cell_type": "code",
   "execution_count": null,
   "id": "03f781f3",
   "metadata": {},
   "outputs": [],
   "source": [
    "class NeuralNetwork(nn.Module):\n",
    "    def __init__(self):\n",
    "        super().__init__()\n",
    "        self.linear_relu_stack = nn.Sequential(\n",
    "            nn.Linear(28*28, 512),\n",
    "            nn.ReLU(),\n",
    "            nn.Linear(512, 512),\n",
    "            nn.ReLU(),\n",
    "            nn.Linear(512, 10)\n",
    "        )\n",
    "\n",
    "    def forward(self, x):\n",
    "        logits = self.linear_relu_stack(x)\n",
    "        return logits"
   ]
  },
  {
   "cell_type": "code",
   "execution_count": null,
   "id": "40b59d57",
   "metadata": {},
   "outputs": [],
   "source": [
    "model = NeuralNetwork().to('cuda')"
   ]
  },
  {
   "cell_type": "code",
   "execution_count": null,
   "id": "7edd2363",
   "metadata": {},
   "outputs": [],
   "source": [
    "model(torch.randn((784,)).to('cuda'))"
   ]
  }
 ],
 "metadata": {
  "kernelspec": {
   "display_name": "Python 3 (ipykernel)",
   "language": "python",
   "name": "python3"
  },
  "language_info": {
   "codemirror_mode": {
    "name": "ipython",
    "version": 3
   },
   "file_extension": ".py",
   "mimetype": "text/x-python",
   "name": "python",
   "nbconvert_exporter": "python",
   "pygments_lexer": "ipython3",
   "version": "3.10.4"
  }
 },
 "nbformat": 4,
 "nbformat_minor": 5
}
