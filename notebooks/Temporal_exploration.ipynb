{
 "cells": [
  {
   "cell_type": "code",
   "execution_count": null,
   "id": "8e974423",
   "metadata": {},
   "outputs": [],
   "source": [
    "import sys\n",
    "import os\n",
    "#import torch\n",
    "import zarr\n",
    "import fsspec\n",
    "import lilio\n",
    "import xarray as xr\n",
    "import numpy as np\n",
    "import pandas as pd\n",
    "import pyarrow as pa\n",
    "import matplotlib.pyplot as plt\n",
    "\n",
    "#from torch import nn\n",
    "from pathlib import Path\n",
    "\n",
    "sys.path.append(os.path.expanduser('~/Documents/Medley'))\n",
    "from scripts.prepare_monthly_ts_data import get_monthly_data"
   ]
  },
  {
   "cell_type": "code",
   "execution_count": null,
   "id": "616ec051",
   "metadata": {},
   "outputs": [],
   "source": [
    "df = get_monthly_data().to_pandas()"
   ]
  },
  {
   "cell_type": "code",
   "execution_count": null,
   "id": "03f781f3",
   "metadata": {},
   "outputs": [],
   "source": [
    "class NeuralNetwork(nn.Module):\n",
    "    def __init__(self):\n",
    "        super().__init__()\n",
    "        self.linear_relu_stack = nn.Sequential(\n",
    "            nn.Linear(28*28, 512),\n",
    "            nn.ReLU(),\n",
    "            nn.Linear(512, 512),\n",
    "            nn.ReLU(),\n",
    "            nn.Linear(512, 10)\n",
    "        )\n",
    "\n",
    "    def forward(self, x):\n",
    "        logits = self.linear_relu_stack(x)\n",
    "        return logits"
   ]
  },
  {
   "cell_type": "code",
   "execution_count": null,
   "id": "40b59d57",
   "metadata": {},
   "outputs": [],
   "source": [
    "model = NeuralNetwork().to('cuda')"
   ]
  },
  {
   "cell_type": "code",
   "execution_count": null,
   "id": "7edd2363",
   "metadata": {},
   "outputs": [],
   "source": [
    "model(torch.randn((784,)).to('cuda'))"
   ]
  }
 ],
 "metadata": {
  "kernelspec": {
   "display_name": "Python 3 (ipykernel)",
   "language": "python",
   "name": "python3"
  },
  "language_info": {
   "codemirror_mode": {
    "name": "ipython",
    "version": 3
   },
   "file_extension": ".py",
   "mimetype": "text/x-python",
   "name": "python",
   "nbconvert_exporter": "python",
   "pygments_lexer": "ipython3",
   "version": "3.10.4"
  }
 },
 "nbformat": 4,
 "nbformat_minor": 5
}
