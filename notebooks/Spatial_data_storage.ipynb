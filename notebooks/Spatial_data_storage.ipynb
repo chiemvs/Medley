{
 "cells": [
  {
   "cell_type": "code",
   "execution_count": 1,
   "id": "3a877219",
   "metadata": {},
   "outputs": [],
   "source": [
    "import sys\n",
    "import os\n",
    "#import torch\n",
    "import zarr\n",
    "import fsspec\n",
    "import lilio\n",
    "import xarray as xr\n",
    "import numpy as np\n",
    "import pandas as pd\n",
    "import pyarrow as pa\n",
    "import matplotlib.pyplot as plt\n",
    "\n",
    "#from torch import nn\n",
    "from pathlib import Path\n",
    "\n",
    "sys.path.append(os.path.expanduser('~/Documents/Medley'))\n",
    "from scripts.prepare_monthly_ts_data import get_monthly_data"
   ]
  },
  {
   "cell_type": "markdown",
   "id": "ab317f2f",
   "metadata": {},
   "source": [
    "### Storage of SPEIcube\n",
    "from cloud to cluster"
   ]
  },
  {
   "cell_type": "code",
   "execution_count": 34,
   "id": "8ba159b3",
   "metadata": {},
   "outputs": [],
   "source": [
    "ds = xr.open_zarr(fsspec.get_mapper('https://s3.bgc-jena.mpg.de:9000/xaida/SPEICube.zarr'), consolidated=True)"
   ]
  },
  {
   "cell_type": "code",
   "execution_count": 3,
   "id": "c2e3c5bd",
   "metadata": {},
   "outputs": [],
   "source": [
    "# Adding some information, and re-chunking\n",
    "for running_window in [30,90,180]:\n",
    "    ds[f'spei_{running_window}'].encoding.pop('chunks')\n",
    "    ds[f'spei_{running_window}'].encoding.pop('preferred_chunks')\n",
    "    ds[f'spei_{running_window}'].attrs.update({'long_name':'antecedent_water_surplus_or_deficit',\n",
    "                                               'units':'mm',\n",
    "                                               'calculation':'SUM(TP-PET)',\n",
    "                                               'window_length_days':running_window,\n",
    "                                               'potential_evap':'Penman_Monteith',\n",
    "                                               'source':'ERA5_and_Max_Planck_MPG',\n",
    "                                               'project':'XAIDA',\n",
    "                                               'workpackage':3,})\n",
    "ds = ds.chunk({'latitude':50,'longitude':50})"
   ]
  },
  {
   "cell_type": "code",
   "execution_count": 35,
   "id": "9affd9de",
   "metadata": {},
   "outputs": [],
   "source": [
    "localpath = Path('/scistor/ivm/data_catalogue/reanalysis/ERA5_0.25/WSD/1979_2021_water_surplus_deficit_daily.zarr')\n",
    "# Writing out daily data for everyone.\n",
    "#ds.to_zarr(localpath)"
   ]
  },
  {
   "cell_type": "code",
   "execution_count": 3,
   "id": "308d3006",
   "metadata": {},
   "outputs": [],
   "source": [
    "def monthly_resample_func(ds: xr.Dataset, how = 'mean') -> xr.Dataset:\n",
    "    resampled_object = ds.resample(time = 'M', label = 'left')\n",
    "    f = getattr(resampled_object, how)\n",
    "    newds = f(skipna = False)\n",
    "    newds.coords['time'] = newds.time + pd.Timedelta('1D') # Shifting due to weird label behaviour.\n",
    "    for varname in (varname for varname in newds.variables if ('time' in newds[varname].dims)):\n",
    "        newds[varname].attrs.update({'resample':f'monthly_{how}'})\n",
    "    return newds\n",
    "\n",
    "def chunk_func(ds: xr.Dataset, chunks = {'latitude':50, 'longitude':50}) -> xr.Dataset:\n",
    "    #ds = ds.transpose(\"time\",\"latitude\", \"longitude\")\n",
    "    chunks.update({'time':len(ds.time)}) # Needs to be specified as well, otherwise chunk of size 1.\n",
    "    return ds.chunk(chunks)"
   ]
  },
  {
   "cell_type": "code",
   "execution_count": 12,
   "id": "b6825741",
   "metadata": {},
   "outputs": [
    {
     "data": {
      "text/plain": [
       "<xarray.backends.zarr.ZarrStore at 0x1554096bc120>"
      ]
     },
     "execution_count": 12,
     "metadata": {},
     "output_type": "execute_result"
    }
   ],
   "source": [
    "# creating a monthly mediterranean subset.\n",
    "# It is already aggregated/accumulated, but still sampling to monthly mean (mean of preceeding drought within a month, potentially extending until before that month)\n",
    "ds = xr.open_zarr(localpath)\n",
    "ds = ds.sel(latitude = slice(65,20),longitude = slice(-20,55))\n",
    "outpath = Path('/scistor/ivm/jsn295/Medi/monthly/1979_2021_monthly_water_surplus_deficit.zarr')\n",
    "ds = monthly_resample_func(ds, how = 'mean')\n",
    "ds = chunk_func(ds)\n",
    "ds.to_zarr(outpath)"
   ]
  },
  {
   "cell_type": "markdown",
   "id": "e707d367",
   "metadata": {},
   "source": [
    "### Label and event cubes\n",
    "Downloaded manually from https://nextcloud.bgc-jena.mpg.de/s/MTc2BNJNkoSMxdH. Cannot be resampled to months because consists of integers. Just combining them into a single store."
   ]
  },
  {
   "cell_type": "code",
   "execution_count": 2,
   "id": "1c4b867f",
   "metadata": {},
   "outputs": [],
   "source": [
    "downloadpath = Path('/scistor/ivm/jsn295/Medi/daily/cloud_download/')"
   ]
  },
  {
   "cell_type": "code",
   "execution_count": 49,
   "id": "8eca3e82",
   "metadata": {},
   "outputs": [
    {
     "data": {
      "text/plain": [
       "<xarray.backends.zarr.ZarrStore at 0x1553ddb7b1b0>"
      ]
     },
     "execution_count": 49,
     "metadata": {},
     "output_type": "execute_result"
    }
   ],
   "source": [
    "key_value = {}\n",
    "for window in [30,90,180]:\n",
    "    da = xr.open_zarr(downloadpath / f'EventCube_Univariate_spei_{window}_0.05.zarr', consolidated = False)['layer']\n",
    "    da = da.sel(latitude = slice(65,20),longitude = slice(-20,55))\n",
    "    da.encoding.pop('chunks')\n",
    "    da.encoding.pop('preferred_chunks')\n",
    "    da.attrs.update({'window_length_days':window,'threshold':0.05})\n",
    "    key_value.update({f'spei_{window}':da})\n",
    "ds = xr.Dataset(key_value)\n",
    "ds = chunk_func(ds)\n",
    "ds.to_zarr(downloadpath.parent / '1979_2021_water_surplus_deficit_daily_EventCube.zarr', consolidated=True)"
   ]
  },
  {
   "cell_type": "code",
   "execution_count": 10,
   "id": "40450f48",
   "metadata": {},
   "outputs": [
    {
     "data": {
      "text/plain": [
       "<xarray.backends.zarr.ZarrStore at 0x15540a1f5690>"
      ]
     },
     "execution_count": 10,
     "metadata": {},
     "output_type": "execute_result"
    }
   ],
   "source": [
    "# Labelcubes are already only limited to Europe.\n",
    "key_value = {}\n",
    "for window in [30,90,180]:\n",
    "    da = xr.open_zarr(downloadpath / f'LabelCube_Univariate_spei_{window}_0.05_Europe_1979_2021.zarr', consolidated = False)['layer']\n",
    "    da.encoding.pop('chunks')\n",
    "    da.encoding.pop('preferred_chunks')\n",
    "    da.attrs.update({'window_length_days':window,'threshold':0.05})\n",
    "    key_value.update({f'spei_{window}':da})\n",
    "ds = xr.Dataset(key_value)\n",
    "ds = chunk_func(ds)\n",
    "ds.to_zarr(downloadpath.parent / '1979_2021_water_surplus_deficit_daily_LabelCube.zarr', consolidated=True)\n",
    "#test = xr.open_zarr(downloadpath / 'LabelCube_Univariate_spei_180_0.05_Europe_1979_2021.zarr', consolidated=False)"
   ]
  },
  {
   "cell_type": "markdown",
   "id": "fa544101",
   "metadata": {},
   "source": [
    "#### creating a land-sea mask for the WSD variables from WP3"
   ]
  },
  {
   "cell_type": "code",
   "execution_count": 20,
   "id": "35ba6922",
   "metadata": {},
   "outputs": [],
   "source": [
    "example = xr.open_zarr('/scistor/ivm/jsn295/Medi/monthly/1979_2021_monthly_water_surplus_deficit.zarr').isel(time = 0)\n",
    "whereland = xr.open_dataarray('/scistor/ivm/jsn295/ERA5/sst_nhplus.nc')[0,:,:].isnull()\n",
    "whereland.name = 'land'\n",
    "whereland = whereland.reindex_like(example, method = 'nearest').drop('time')"
   ]
  },
  {
   "cell_type": "code",
   "execution_count": 22,
   "id": "7c156123",
   "metadata": {},
   "outputs": [],
   "source": [
    "whereland.to_netcdf('/scistor/ivm/jsn295/Medi/landseamask_wp3.nc',encoding={'land':{'dtype':'byte'}})"
   ]
  },
  {
   "cell_type": "markdown",
   "id": "ad78bf37",
   "metadata": {},
   "source": [
    "### Storage of E-OBS"
   ]
  },
  {
   "cell_type": "code",
   "execution_count": 4,
   "id": "7391b84b",
   "metadata": {},
   "outputs": [],
   "source": [
    "# varnmane currently unused argument.\n",
    "def chunk_and_to_zarr(ncpath: Path, varname: str , to_monthly: bool = False) -> tuple[xr.DataArray,Path]:\n",
    "    \"\"\" Returns array and suggested zarrpath \"\"\"\n",
    "    assert ncpath.exists(), 'please provide an existing path'\n",
    "    zarrpath = ncpath.parent / (ncpath.parts[-1][:-3] + '.zarr') # Stripping .nc and replacing with zarr\n",
    "    daskarray = xr.open_dataset(ncpath).drop_vars('time_bnds', errors = 'ignore') # Keeping as dataset.\n",
    "    if to_monthly:\n",
    "        daskarray = monthly_resample_func(daskarray, how = 'sum')\n",
    "    daskarray = chunk_func(daskarray)\n",
    "    # Writing and filling\n",
    "    return daskarray, zarrpath"
   ]
  },
  {
   "cell_type": "code",
   "execution_count": 5,
   "id": "89f58500",
   "metadata": {},
   "outputs": [
    {
     "data": {
      "text/plain": [
       "<xarray.backends.zarr.ZarrStore at 0x155409480c10>"
      ]
     },
     "execution_count": 5,
     "metadata": {},
     "output_type": "execute_result"
    }
   ],
   "source": [
    "newdir = Path('/scistor/ivm/jsn295/Medi/monthly/')\n",
    "# daily to monthly obs.\n",
    "daskarray, zarrpath = chunk_and_to_zarr(ncpath = Path('/scistor/ivm/data_catalogue/observations/EOBS/rr_ens_mean_0.1deg_reg_v26.0e.nc'),\n",
    "                             varname = 'rr',\n",
    "                             to_monthly = True)\n",
    "daskarray.to_zarr(newdir / f'{zarrpath.name[:3]}mon_{zarrpath.name[3:]}', consolidated=True) # adding month to name"
   ]
  },
  {
   "cell_type": "code",
   "execution_count": 15,
   "id": "1fe1fb39",
   "metadata": {},
   "outputs": [
    {
     "data": {
      "text/plain": [
       "<xarray.backends.zarr.ZarrStore at 0x15540a8e77d0>"
      ]
     },
     "execution_count": 15,
     "metadata": {},
     "output_type": "execute_result"
    }
   ],
   "source": [
    "# Only changing the time axis (from mid-stamped to left-stamped). SPI is already monthly.\n",
    "daskarray, zarrpath = chunk_and_to_zarr(ncpath = Path('/scistor/ivm/data_catalogue/observations/EOBS/spi3_mon_0.1deg_reg_ens_median_E-OBSv23.1e.nc'),\n",
    "                             varname = 'spi3ETCCDI',\n",
    "                             to_monthly = False)\n",
    "daskarray.coords['time'] = pd.date_range(pd.Timestamp(daskarray.time.values[0]).strftime('%Y-%m-01'), freq = 'MS', periods = len(daskarray.time))\n",
    "daskarray.to_zarr(newdir / zarrpath.name)"
   ]
  }
 ],
 "metadata": {
  "kernelspec": {
   "display_name": "Python 3 (ipykernel)",
   "language": "python",
   "name": "python3"
  },
  "language_info": {
   "codemirror_mode": {
    "name": "ipython",
    "version": 3
   },
   "file_extension": ".py",
   "mimetype": "text/x-python",
   "name": "python",
   "nbconvert_exporter": "python",
   "pygments_lexer": "ipython3",
   "version": "3.10.4"
  }
 },
 "nbformat": 4,
 "nbformat_minor": 5
}
