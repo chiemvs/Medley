{
 "cells": [
  {
   "cell_type": "markdown",
   "id": "c01878b4",
   "metadata": {},
   "source": [
    "## AMOC ~ circulation ~ drought\n",
    "\n",
    "Amoc timeseries is a bottleneck. Only a few years of RAPID observations."
   ]
  }
 ],
 "metadata": {
  "kernelspec": {
   "display_name": "Python 3 (ipykernel)",
   "language": "python",
   "name": "python3"
  },
  "language_info": {
   "codemirror_mode": {
    "name": "ipython",
    "version": 3
   },
   "file_extension": ".py",
   "mimetype": "text/x-python",
   "name": "python",
   "nbconvert_exporter": "python",
   "pygments_lexer": "ipython3",
   "version": "3.10.8"
  }
 },
 "nbformat": 4,
 "nbformat_minor": 5
}
